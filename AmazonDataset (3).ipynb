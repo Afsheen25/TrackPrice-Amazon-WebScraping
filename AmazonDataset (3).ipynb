{
 "cells": [
  {
   "cell_type": "code",
   "execution_count": 1,
   "id": "73330f7e-2c90-4e11-889b-7d855d4776d2",
   "metadata": {},
   "outputs": [],
   "source": [
    "from bs4 import BeautifulSoup\n",
    "import requests\n",
    "import time\n",
    "import datetime\n",
    "import smtplib"
   ]
  },
  {
   "cell_type": "code",
   "execution_count": 2,
   "id": "9efc84ad-f31d-4f99-9ab8-6ad8b420492a",
   "metadata": {},
   "outputs": [],
   "source": [
    "#connect to website\n",
    "URL = 'https://www.amazon.in/s?k=mobile&crid=3NV8XDT9WLHZR&sprefix=mobile%2Caps%2C870&ref=nb_sb_noss_1'\n",
    "\n",
    "headers = {\"User-Agent\": \"Mozilla/5.0 (Windows NT 10.0; Win64; x64) AppleWebKit/537.36 (KHTML, like Gecko) Chrome/105.0.0.0 Safari/537.36\"}\n",
    "\n",
    "page = requests.get(URL, headers=headers)\n",
    "\n",
    "doc1 = BeautifulSoup(page.content, \"html.parser\")\n",
    "\n",
    "doc2 = BeautifulSoup(doc1.prettify(), \"html.parser\")\n",
    "\n",
    "title_selector='a-size-medium a-color-base a-text-normal'\n",
    "title=doc2.find('span',{'class':title_selector}).get_text().strip()\n",
    "\n",
    "\n",
    "price_selector='a-price-whole'\n",
    "price=doc2.find('span',{'class':price_selector}).get_text().strip()\n"
   ]
  },
  {
   "cell_type": "code",
   "execution_count": null,
   "id": "c80b08d6-2c20-4e75-85ca-3abbd2513ffd",
   "metadata": {},
   "outputs": [],
   "source": [
    "print(title)\n",
    "print(price)"
   ]
  },
  {
   "cell_type": "code",
   "execution_count": null,
   "id": "a28ea132-86e8-4be3-9d23-92f40812ff2d",
   "metadata": {},
   "outputs": [],
   "source": [
    "import datetime\n",
    "\n",
    "today = datetime.date.today()\n",
    "\n",
    "print(today)"
   ]
  },
  {
   "cell_type": "code",
   "execution_count": null,
   "id": "399b0db7-81d8-4144-b56c-31f59437de77",
   "metadata": {},
   "outputs": [],
   "source": [
    "import csv \n",
    "\n",
    "header = ['Title', 'Price','Date']\n",
    "data = [title, price,today]\n",
    "\n",
    "with open('AmazonwebscraperDataset.csv','w',newline='',encoding='UTF8') as f:\n",
    "    writer=csv.writer(f)\n",
    "    writer.writerow(header)\n",
    "    writer.writerow(data)\n",
    "    "
   ]
  },
  {
   "cell_type": "code",
   "execution_count": null,
   "id": "1718ee40-0fe1-46eb-a4af-16593234c1ae",
   "metadata": {},
   "outputs": [],
   "source": [
    "import pandas as pd\n",
    "df = pd.read_csv(r'C:\\Users\\user\\AmazonwebscraperDataset.csv')\n",
    "print(df)"
   ]
  },
  {
   "cell_type": "code",
   "execution_count": null,
   "id": "a311de00-38c0-49a5-b8dd-f3ac67a127bf",
   "metadata": {},
   "outputs": [],
   "source": [
    "with open('AmazonwebscraperDataset.csv', 'a+', newline='', encoding='UTF8') as f:\n",
    "    writer = csv.writer(f)\n",
    "    writer.writerow(data)\n"
   ]
  },
  {
   "cell_type": "code",
   "execution_count": null,
   "id": "2c15fbe1-2e99-4dfd-8793-262249424739",
   "metadata": {},
   "outputs": [],
   "source": [
    "def check_price():\n",
    "    URL = 'https://www.amazon.in/s?k=mobile&crid=3NV8XDT9WLHZR&sprefix=mobile%2Caps%2C870&ref=nb_sb_noss_1'\n",
    "\n",
    "    headers = {\"User-Agent\": \"Mozilla/5.0 (Windows NT 10.0; Win64; x64) AppleWebKit/537.36 (KHTML, like Gecko) Chrome/105.0.0.0 Safari/537.36\"}\n",
    "    \n",
    "    page = requests.get(URL, headers=headers)\n",
    "\n",
    "    doc1 = BeautifulSoup(page.content, \"html.parser\")\n",
    "\n",
    "    doc2 = BeautifulSoup(doc1.prettify(), \"html.parser\")\n",
    "\n",
    "    title_selector='a-size-medium a-color-base a-text-normal'\n",
    "    title=doc2.find('span',{'class':title_selector}).get_text().strip()\n",
    "\n",
    "\n",
    "    price_selector='a-price-whole'\n",
    "    price=doc2.find('span',{'class':price_selector}).get_text().strip()\n",
    "\n",
    "    \n",
    "    price = price.strip()[1:]\n",
    "    title = title.strip()\n",
    "\n",
    "    import datetime\n",
    "    today = datetime.date.today()\n",
    "    \n",
    "    import csv \n",
    "    header = ['Title', 'Price', 'Date']\n",
    "    data = [title, price, today]\n",
    "\n",
    "    with open('AmazonwebscraperDataset.csv', 'a+', newline='', encoding='UTF8') as f:\n",
    "        writer = csv.writer(f)\n",
    "        writer.writerow(data)\n",
    " \n",
    "   "
   ]
  },
  {
   "cell_type": "code",
   "execution_count": null,
   "id": "6dc1db82-a34a-479d-a060-515ee2056f35",
   "metadata": {},
   "outputs": [],
   "source": [
    "while(True):\n",
    "    check_price()\n",
    "    time.sleep(86400)\n"
   ]
  },
  {
   "cell_type": "code",
   "execution_count": null,
   "id": "b4c1d55d-dc42-46fc-b0c7-b8b4a96fd24f",
   "metadata": {},
   "outputs": [],
   "source": [
    "import pandas as pd\n",
    "df = pd.read_csv(r'C:\\Users\\user\\AmazonwebscraperDataset.csv')\n",
    "print(df)"
   ]
  },
  {
   "cell_type": "code",
   "execution_count": null,
   "id": "9bf483f0-4c43-45d2-b25b-0eec9a561a52",
   "metadata": {},
   "outputs": [],
   "source": [
    "if(price<'15000'):\n",
    "        send_mail() \n",
    "\n",
    "def send_mail():\n",
    "    server = smtplib.SMTP_SSL('smtp.gmail.com',465)\n",
    "    server.ehlo()\n",
    "    #server.starttls()\n",
    "    server.ehlo()\n",
    "    server.login('afpathan2527@gmail.com','password')\n",
    "    \n",
    "    subject = \"The Mobile you want is below Rs.15000!Your chance to buy!\"\n",
    "    body = \"Afsheen, This is the moment you have been waiting for. Don't miss it up! Link here: 'https://www.amazon.in/s?k=mobile&crid=3NV8XDT9WLHZR&sprefix=mobile%2Caps%2C870&ref=nb_sb_noss_1'\"\n",
    "   \n",
    "    msg = f\"Subject: {subject}\\n\\n{body}\"\n",
    "    \n",
    "    server.sendmail(\n",
    "        'afpathan2527@gmail.com',\n",
    "        msg\n",
    "     \n",
    "    )\n",
    "    \n",
    "    \n",
    "    "
   ]
  },
  {
   "cell_type": "code",
   "execution_count": null,
   "id": "a25960ec-0e62-42c2-89e9-cd85f9ad5d9b",
   "metadata": {},
   "outputs": [],
   "source": []
  },
  {
   "cell_type": "code",
   "execution_count": null,
   "id": "0cb14ff9",
   "metadata": {},
   "outputs": [],
   "source": []
  },
  {
   "cell_type": "code",
   "execution_count": null,
   "id": "2d61b6d8",
   "metadata": {},
   "outputs": [],
   "source": []
  }
 ],
 "metadata": {
  "kernelspec": {
   "display_name": "Python 3 (ipykernel)",
   "language": "python",
   "name": "python3"
  },
  "language_info": {
   "codemirror_mode": {
    "name": "ipython",
    "version": 3
   },
   "file_extension": ".py",
   "mimetype": "text/x-python",
   "name": "python",
   "nbconvert_exporter": "python",
   "pygments_lexer": "ipython3",
   "version": "3.9.8"
  }
 },
 "nbformat": 4,
 "nbformat_minor": 5
}
